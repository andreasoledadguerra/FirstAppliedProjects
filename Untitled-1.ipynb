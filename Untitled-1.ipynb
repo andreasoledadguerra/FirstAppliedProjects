{
 "cells": [
  {
   "cell_type": "markdown",
   "metadata": {},
   "source": [
    "#Food Delivery Cost and Profitability Analysis\n",
    "\n",
    "In this notebook we are going to analyze cost and profitability of food delivery using libraries like numpy, pandas, and matplotlib."
   ]
  },
  {
   "cell_type": "code",
   "execution_count": 11,
   "metadata": {},
   "outputs": [],
   "source": [
    "import numpy as np\n",
    "import pandas as pd\n",
    "\n",
    "from datetime import datetime\n",
    "import matplotlib.pyplot as plt"
   ]
  },
  {
   "cell_type": "code",
   "execution_count": 12,
   "metadata": {},
   "outputs": [
    {
     "name": "stdout",
     "output_type": "stream",
     "text": [
      "   Order ID Customer ID Restaurant ID  Order Date and Time  \\\n",
      "0         1       C8270         R2924  2024-02-01 01:11:52   \n",
      "1         2       C1860         R2054  2024-02-02 22:11:04   \n",
      "2         3       C6390         R2870  2024-01-31 05:54:35   \n",
      "3         4       C6191         R2642  2024-01-16 22:52:49   \n",
      "4         5       C6734         R2799  2024-01-29 01:19:30   \n",
      "\n",
      "  Delivery Date and Time  Order Value  Delivery Fee    Payment Method  \\\n",
      "0    2024-02-01 02:39:52         1914             0       Credit Card   \n",
      "1    2024-02-02 22:46:04          986            40    Digital Wallet   \n",
      "2    2024-01-31 06:52:35          937            30  Cash on Delivery   \n",
      "3    2024-01-16 23:38:49         1463            50  Cash on Delivery   \n",
      "4    2024-01-29 02:48:30         1992            30  Cash on Delivery   \n",
      "\n",
      "  Discounts and Offers  Commission Fee  Payment Processing Fee  \\\n",
      "0            5% on App             150                      47   \n",
      "1                  10%             198                      23   \n",
      "2         15% New User             195                      45   \n",
      "3                  NaN             146                      27   \n",
      "4         50 off Promo             130                      50   \n",
      "\n",
      "   Refunds/Chargebacks  \n",
      "0                    0  \n",
      "1                    0  \n",
      "2                    0  \n",
      "3                    0  \n",
      "4                    0  \n"
     ]
    }
   ],
   "source": [
    "food_delivered = pd.read_csv(\"food_orders_new_delhi.csv\")\n",
    "print(food_delivered.head())\n"
   ]
  },
  {
   "cell_type": "code",
   "execution_count": 13,
   "metadata": {},
   "outputs": [
    {
     "name": "stdout",
     "output_type": "stream",
     "text": [
      "<class 'pandas.core.frame.DataFrame'>\n",
      "RangeIndex: 1000 entries, 0 to 999\n",
      "Data columns (total 12 columns):\n",
      " #   Column                  Non-Null Count  Dtype \n",
      "---  ------                  --------------  ----- \n",
      " 0   Order ID                1000 non-null   int64 \n",
      " 1   Customer ID             1000 non-null   object\n",
      " 2   Restaurant ID           1000 non-null   object\n",
      " 3   Order Date and Time     1000 non-null   object\n",
      " 4   Delivery Date and Time  1000 non-null   object\n",
      " 5   Order Value             1000 non-null   int64 \n",
      " 6   Delivery Fee            1000 non-null   int64 \n",
      " 7   Payment Method          1000 non-null   object\n",
      " 8   Discounts and Offers    815 non-null    object\n",
      " 9   Commission Fee          1000 non-null   int64 \n",
      " 10  Payment Processing Fee  1000 non-null   int64 \n",
      " 11  Refunds/Chargebacks     1000 non-null   int64 \n",
      "dtypes: int64(6), object(6)\n",
      "memory usage: 93.9+ KB\n",
      "None\n"
     ]
    }
   ],
   "source": [
    "print(food_delivered.info())"
   ]
  },
  {
   "cell_type": "markdown",
   "metadata": {},
   "source": [
    "At this point we are going to need to convert \"Order Date and Time\" and \"Delivery Date and Time\" to a datetime format, \"Discounts and Offers\" to a consistent numeric value (if applicable) or calculate the discount amounts.\n",
    "\n",
    "Also we are going to ensure  all monetary values in suitable format for calculations."
   ]
  },
  {
   "cell_type": "code",
   "execution_count": 14,
   "metadata": {},
   "outputs": [],
   "source": [
    "food_delivered['Order Date and Time'] =pd.to_datetime(food_delivered['Order Date and Time'])\n",
    "food_delivered['Delivery Date and Time'] = pd.to_datetime(food_delivered['Delivery Date and Time'])"
   ]
  },
  {
   "cell_type": "code",
   "execution_count": 19,
   "metadata": {},
   "outputs": [],
   "source": [
    "# Let's create a function to extract numeric values \n",
    "# from the \"Discount and Offers\" string\n",
    "\n",
    "def extract_discount(discount_str):\n",
    "    try:\n",
    "        return float(discount_str)\n",
    "    except ValueError:\n",
    "        if 'off' in discount_str:\n",
    "            return float(discount_str.split('off')[0])\n",
    "        elif '%' in discount_str:\n",
    "            return float(discount_str.split('%')[0])\n",
    "        else:\n",
    "            return 0.0\n",
    "        \n",
    "# We apply the function to create a new \n",
    "# 'Discount Value' column\n",
    "\n",
    "food_delivered['Discount Percentage'] =food_delivered['Discounts and Offers'].apply(lambda x : extract_discount(x))        "
   ]
  },
  {
   "cell_type": "code",
   "execution_count": 21,
   "metadata": {},
   "outputs": [],
   "source": [
    "#Convert the 'Discount Percentage' column to numeric\n",
    "# (assuming it contains percentage strings)\n",
    "food_delivered['Discount Percentage']= pd.to_numeric(food_delivered['Discount Percentage'], errors='coerce')\n",
    "\n",
    "#Define a function to calculate the discount amount\n",
    "def calculate_discount(row):\n",
    "    discount_percentage = row['Discount Percentage']\n",
    "    if discount_percentage > 1 :\n",
    "        return row['Order Value'] * discount_percentage / 100\n",
    "    else:\n",
    "        return discount_percentage\n",
    "    \n",
    "# Apply the function to create a new 'Discount Amount' column\n",
    "food_delivered['Discount Amount']= food_delivered.apply(calculate_discount, axis=1)    "
   ]
  },
  {
   "cell_type": "code",
   "execution_count": null,
   "metadata": {},
   "outputs": [],
   "source": []
  }
 ],
 "metadata": {
  "kernelspec": {
   "display_name": "Python 3",
   "language": "python",
   "name": "python3"
  },
  "language_info": {
   "codemirror_mode": {
    "name": "ipython",
    "version": 3
   },
   "file_extension": ".py",
   "mimetype": "text/x-python",
   "name": "python",
   "nbconvert_exporter": "python",
   "pygments_lexer": "ipython3",
   "version": "3.10.12"
  }
 },
 "nbformat": 4,
 "nbformat_minor": 2
}
